{
 "cells": [
  {
   "cell_type": "code",
   "execution_count": 3,
   "metadata": {},
   "outputs": [
    {
     "data": {
      "application/vnd.jupyter.widget-view+json": {
       "model_id": "73e9d82e2caa42579c4f04e037ad4e34",
       "version_major": 2,
       "version_minor": 0
      },
      "text/plain": [
       "interactive(children=(FloatSlider(value=0.0, description='Defocus', max=3.0), Output()), _dom_classes=('widget…"
      ]
     },
     "metadata": {},
     "output_type": "display_data"
    }
   ],
   "source": [
    "import numpy as np\n",
    "import matplotlib.pyplot as plt\n",
    "import ipywidgets as widgets\n",
    "from IPython.display import display\n",
    "\n",
    "def generate_thon_rings_with_line(defocus):\n",
    "    \"\"\"Generate a simulated Thon ring pattern with defocus and indicate radial averaging line.\"\"\"\n",
    "    # Define image size and frequency space\n",
    "    size = 500  # Image size in pixels\n",
    "    max_rings = 8  # Maximum number of Thon rings\n",
    "\n",
    "    # Create a grid in frequency space\n",
    "    x = np.linspace(-1, 1, size)\n",
    "    y = np.linspace(-1, 1, size)\n",
    "    X, Y = np.meshgrid(x, y)\n",
    "    R = np.sqrt(X**2 + Y**2)  # Radial distance\n",
    "\n",
    "    # Simulate Thon rings: sin waves modulated by defocus\n",
    "    thon_rings = np.sin(2 * np.pi * max_rings * R + defocus) * np.exp(-10 * R)\n",
    "\n",
    "    # Compute 1D radial profile from the center outward along the x-axis\n",
    "    center_idx = size // 2\n",
    "    line_profile = thon_rings[center_idx, center_idx:]  # Only take values outward from center\n",
    "    x_vals = np.linspace(0, 1, len(line_profile))  # Normalized spatial frequency\n",
    "\n",
    "    # Create figure with two plots: 2D Thon rings and 1D radial profile\n",
    "    fig, axes = plt.subplots(1, 2, figsize=(12, 5))\n",
    "\n",
    "    # Show Thon rings with a radial line from center (0,0) outward\n",
    "    axes[0].imshow(thon_rings, cmap='gray', extent=[-1, 1, -1, 1])\n",
    "    axes[0].plot([0, 1], [0, 0], color='red', linestyle='--', linewidth=1.5)  # Line from (0,0) to (1,0)\n",
    "    axes[0].set_title(f\"Simulated Thon Rings (Defocus={defocus:.2f})\")\n",
    "    axes[0].set_xticks([])\n",
    "    axes[0].set_yticks([])\n",
    "\n",
    "    # Plot 1D radial profile along the positive x-axis from center\n",
    "    axes[1].plot(x_vals, line_profile, color='black')\n",
    "    axes[1].set_title(\"Radial Profile from Center Outward\")\n",
    "    axes[1].set_xlabel(\"Normalized Spatial Frequency\")\n",
    "    axes[1].set_ylabel(\"Intensity\")\n",
    "\n",
    "    plt.show()\n",
    "\n",
    "# Interactive widget to control defocus level\n",
    "defocus_slider = widgets.FloatSlider(min=0, max=3, step=0.1, value=0, description=\"Defocus\")\n",
    "interactive_plot = widgets.interactive(generate_thon_rings_with_line, defocus=defocus_slider)\n",
    "\n",
    "# Display interactive plot\n",
    "display(interactive_plot)\n"
   ]
  },
  {
   "cell_type": "code",
   "execution_count": null,
   "metadata": {},
   "outputs": [],
   "source": []
  }
 ],
 "metadata": {
  "kernelspec": {
   "display_name": "Python 3",
   "language": "python",
   "name": "python3"
  },
  "language_info": {
   "codemirror_mode": {
    "name": "ipython",
    "version": 3
   },
   "file_extension": ".py",
   "mimetype": "text/x-python",
   "name": "python",
   "nbconvert_exporter": "python",
   "pygments_lexer": "ipython3",
   "version": "3.8.5"
  }
 },
 "nbformat": 4,
 "nbformat_minor": 4
}
