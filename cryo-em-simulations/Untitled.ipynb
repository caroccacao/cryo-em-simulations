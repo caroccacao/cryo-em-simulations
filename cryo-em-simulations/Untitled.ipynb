{
 "cells": [
  {
   "cell_type": "code",
   "execution_count": 1,
   "metadata": {},
   "outputs": [
    {
     "data": {
      "application/vnd.jupyter.widget-view+json": {
       "model_id": "e445c7a3debc4a46b2c85b65f64635e8",
       "version_major": 2,
       "version_minor": 0
      },
      "text/plain": [
       "interactive(children=(FloatSlider(value=0.0, description='Defocus', max=3.0), Output()), _dom_classes=('widget…"
      ]
     },
     "metadata": {},
     "output_type": "display_data"
    }
   ],
   "source": [
    "import numpy as np\n",
    "import matplotlib.pyplot as plt\n",
    "import ipywidgets as widgets\n",
    "from IPython.display import display\n",
    "\n",
    "# Function to generate wave pattern with phase shift\n",
    "def generate_wave(defocus):\n",
    "    x = np.linspace(-10, 10, 500)\n",
    "    y = np.linspace(-10, 10, 500)\n",
    "    X, Y = np.meshgrid(x, y)\n",
    "\n",
    "    # Simulate an electron wave with a sample-induced phase shift\n",
    "    phase_shift = np.sin(2 * np.pi * (X**2 + Y**2) / 20)\n",
    "    \n",
    "    # Apply defocus effect by shifting the wave further\n",
    "    defocused_wave = np.sin(2 * np.pi * (X**2 + Y**2) / 20 + defocus)\n",
    "\n",
    "    fig, axes = plt.subplots(1, 2, figsize=(10, 5))\n",
    "\n",
    "    # In-focus wave (phase shifts are present but invisible)\n",
    "    axes[0].imshow(phase_shift, cmap='gray', extent=[-10, 10, -10, 10])\n",
    "    axes[0].set_title(\"In-focus: Phase shifts invisible\")\n",
    "\n",
    "    # Defocused wave (phase shifts converted to intensity contrast)\n",
    "    axes[1].imshow(defocused_wave, cmap='gray', extent=[-10, 10, -10, 10])\n",
    "    axes[1].set_title(f\"Defocused: Phase shifts revealed (Defocus={defocus:.2f})\")\n",
    "\n",
    "    plt.show()\n",
    "\n",
    "# Interactive widget to control defocus level\n",
    "defocus_slider = widgets.FloatSlider(min=0, max=3, step=0.1, value=0, description=\"Defocus\")\n",
    "interactive_plot = widgets.interactive(generate_wave, defocus=defocus_slider)\n",
    "\n",
    "# Display interactive plot\n",
    "display(interactive_plot)\n"
   ]
  },
  {
   "cell_type": "code",
   "execution_count": null,
   "metadata": {},
   "outputs": [],
   "source": []
  }
 ],
 "metadata": {
  "kernelspec": {
   "display_name": "Python 3",
   "language": "python",
   "name": "python3"
  },
  "language_info": {
   "codemirror_mode": {
    "name": "ipython",
    "version": 3
   },
   "file_extension": ".py",
   "mimetype": "text/x-python",
   "name": "python",
   "nbconvert_exporter": "python",
   "pygments_lexer": "ipython3",
   "version": "3.8.5"
  }
 },
 "nbformat": 4,
 "nbformat_minor": 4
}
